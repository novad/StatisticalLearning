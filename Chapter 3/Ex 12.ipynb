{
 "cells": [
  {
   "cell_type": "markdown",
   "metadata": {},
   "source": [
    "## (a)\n",
    "\n",
    "Remember that without the intercept, the coefficient is estimated as:\n",
    "$$\\hat{\\beta}=\\frac{\\sum_{i=1}^{n}(x_iy_i)}{\\sum x_i^2}$$\n",
    "\n",
    "The estimate of $\\beta$ for the regression X onto Y is the same as for the regression Y onto X only when their sum of squares is the same."
   ]
  },
  {
   "cell_type": "markdown",
   "metadata": {},
   "source": [
    "## (b)\n",
    "From Exercise 11 we can see that the coefficients for each regression are different"
   ]
  },
  {
   "cell_type": "code",
   "execution_count": 2,
   "metadata": {},
   "outputs": [
    {
     "data": {
      "text/html": [
       "<strong>x:</strong> -0.0163678406059713"
      ],
      "text/latex": [
       "\\textbf{x:} -0.0163678406059713"
      ],
      "text/markdown": [
       "**x:** -0.0163678406059713"
      ],
      "text/plain": [
       "          x \n",
       "-0.01636784 "
      ]
     },
     "metadata": {},
     "output_type": "display_data"
    },
    {
     "data": {
      "text/html": [
       "<strong>y:</strong> -0.0020413056138543"
      ],
      "text/latex": [
       "\\textbf{y:} -0.0020413056138543"
      ],
      "text/markdown": [
       "**y:** -0.0020413056138543"
      ],
      "text/plain": [
       "           y \n",
       "-0.002041306 "
      ]
     },
     "metadata": {},
     "output_type": "display_data"
    }
   ],
   "source": [
    "set.seed(1)\n",
    "x = rnorm(100)\n",
    "y = 2*x + rnorm(100)\n",
    "\n",
    "lm.fit1 = lm(y~x + 0)\n",
    "lm.fit2 = lm(x~y + 0)\n",
    "\n",
    "coefficients(lm.fit1)\n",
    "coefficients(lm.fit2)"
   ]
  },
  {
   "cell_type": "markdown",
   "metadata": {},
   "source": [
    "## (c)"
   ]
  },
  {
   "cell_type": "code",
   "execution_count": 8,
   "metadata": {},
   "outputs": [
    {
     "data": {
      "text/html": [
       "<strong>x:</strong> 0.0214806495272547"
      ],
      "text/latex": [
       "\\textbf{x:} 0.0214806495272547"
      ],
      "text/markdown": [
       "**x:** 0.0214806495272547"
      ],
      "text/plain": [
       "         x \n",
       "0.02148065 "
      ]
     },
     "metadata": {},
     "output_type": "display_data"
    },
    {
     "data": {
      "text/html": [
       "<strong>y:</strong> 0.0214806495272547"
      ],
      "text/latex": [
       "\\textbf{y:} 0.0214806495272547"
      ],
      "text/markdown": [
       "**y:** 0.0214806495272547"
      ],
      "text/plain": [
       "         y \n",
       "0.02148065 "
      ]
     },
     "metadata": {},
     "output_type": "display_data"
    }
   ],
   "source": [
    "set.seed(1)\n",
    "x = rnorm(100)\n",
    "y = sample(x, 100)\n",
    "\n",
    "lm.fit1 = lm(y~x + 0)\n",
    "lm.fit2 = lm(x~y + 0)\n",
    "\n",
    "coefficients(lm.fit1)\n",
    "coefficients(lm.fit2)"
   ]
  }
 ],
 "metadata": {
  "kernelspec": {
   "display_name": "R",
   "language": "R",
   "name": "ir"
  },
  "language_info": {
   "codemirror_mode": "r",
   "file_extension": ".r",
   "mimetype": "text/x-r-source",
   "name": "R",
   "pygments_lexer": "r",
   "version": "3.3.2"
  }
 },
 "nbformat": 4,
 "nbformat_minor": 2
}
