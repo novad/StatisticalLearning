{
 "cells": [
  {
   "cell_type": "markdown",
   "metadata": {},
   "source": [
    "## (a)"
   ]
  },
  {
   "cell_type": "code",
   "execution_count": 2,
   "metadata": {},
   "outputs": [
    {
     "data": {
      "text/plain": [
       "\n",
       "Call:\n",
       "lm(formula = y ~ x + 0)\n",
       "\n",
       "Residuals:\n",
       "    Min      1Q  Median      3Q     Max \n",
       "-1.9154 -0.6472 -0.1771  0.5056  2.3109 \n",
       "\n",
       "Coefficients:\n",
       "  Estimate Std. Error t value Pr(>|t|)    \n",
       "x   1.9939     0.1065   18.73   <2e-16 ***\n",
       "---\n",
       "Signif. codes:  0 ‘***’ 0.001 ‘**’ 0.01 ‘*’ 0.05 ‘.’ 0.1 ‘ ’ 1\n",
       "\n",
       "Residual standard error: 0.9586 on 99 degrees of freedom\n",
       "Multiple R-squared:  0.7798,\tAdjusted R-squared:  0.7776 \n",
       "F-statistic: 350.7 on 1 and 99 DF,  p-value: < 2.2e-16\n"
      ]
     },
     "metadata": {},
     "output_type": "display_data"
    }
   ],
   "source": [
    "set.seed(1)\n",
    "x = rnorm(100)\n",
    "y = 2*x + rnorm(100)\n",
    "\n",
    "lm.fit = lm(y~x+0)\n",
    "\n",
    "summary(lm.fit)"
   ]
  },
  {
   "cell_type": "markdown",
   "metadata": {},
   "source": [
    "$\\beta = 1.9939$ with a $SE = 0.1065$\n",
    "\n",
    "From the F-statistic and its respcetive p-value we can infer that the variable explains a lot of the variability in $Y$.\n",
    "\n",
    "$X$ has significantly low p-value, therefore we can reject the null hypothesis"
   ]
  },
  {
   "cell_type": "markdown",
   "metadata": {},
   "source": [
    "## (b)"
   ]
  },
  {
   "cell_type": "code",
   "execution_count": 3,
   "metadata": {},
   "outputs": [
    {
     "data": {
      "text/plain": [
       "\n",
       "Call:\n",
       "lm(formula = x ~ y + 0)\n",
       "\n",
       "Residuals:\n",
       "    Min      1Q  Median      3Q     Max \n",
       "-0.8699 -0.2368  0.1030  0.2858  0.8938 \n",
       "\n",
       "Coefficients:\n",
       "  Estimate Std. Error t value Pr(>|t|)    \n",
       "y  0.39111    0.02089   18.73   <2e-16 ***\n",
       "---\n",
       "Signif. codes:  0 ‘***’ 0.001 ‘**’ 0.01 ‘*’ 0.05 ‘.’ 0.1 ‘ ’ 1\n",
       "\n",
       "Residual standard error: 0.4246 on 99 degrees of freedom\n",
       "Multiple R-squared:  0.7798,\tAdjusted R-squared:  0.7776 \n",
       "F-statistic: 350.7 on 1 and 99 DF,  p-value: < 2.2e-16\n"
      ]
     },
     "metadata": {},
     "output_type": "display_data"
    }
   ],
   "source": [
    "lm.fit2 = lm(x~y+0)\n",
    "summary(lm.fit2)"
   ]
  },
  {
   "cell_type": "markdown",
   "metadata": {},
   "source": [
    "$\\beta = 0.3911$ with $SE = 0.02089$\n",
    "We get identical values for the F-statistic, t-statistic, and p-values.\n",
    "Therefore we can reject the null hypothesis."
   ]
  },
  {
   "cell_type": "markdown",
   "metadata": {},
   "source": [
    "## (c)\n",
    "Both results refer to the same line."
   ]
  },
  {
   "cell_type": "markdown",
   "metadata": {},
   "source": [
    "## (d)\n",
    "\n",
    "$$t=\\frac{\\hat{\\beta}}{SE(\\hat{\\beta})}$$\n",
    "$$SE(\\beta)=\\sqrt{\\frac{\\sum_{i=1}^{n}(y_i-x_i\\hat{\\beta})^2}{(n-1)\\sum_{i'=1}^{n}x_{i'}^2}}$$\n",
    "\n",
    "Remember that for this simple linear regression scenario we estimate the slope by:\n",
    "$$\\hat{\\beta_1} = \\frac{\\sum_{i=1}^{n} x_iy_i}{\\sum_{i=1}^{n}x_i^2}$$\n",
    "\n",
    "\n",
    "$$t=\\frac{\\frac{\\sum_{i=1}^{n} x_iy_i}{\\sum_{i=1}^{n}x_i^2}}{\\sqrt{\\frac{\\sum_{i=1}^{n}(y_i-x_i\\hat{\\beta})^2}{(n-1)\\sum_{i'=1}^{n}x_{i'}^2}}}$$\n",
    "\n",
    "\n",
    "$$t={\\frac{\\sum_{i=1}^{n} x_iy_i}{\\sum_{i=1}^{n}x_i^2}}\\sqrt{\\frac{(n-1)\\sum_{i'=1}^{n}x_{i'}^2}{\\sum_{i=1}^{n}(y_i-x_i\\hat{\\beta})^2}}$$\n",
    "\n",
    "\n",
    "$$t=\\frac{(\\sum_{i=1}^{n} x_iy_i)\\sqrt{n-1}}{\\sqrt{\\sum_{i=1}^{n}x_i^2\\sum_{i=1}^{n}(y_i-x_i\\hat{\\beta})^2}}$$\n",
    "\n",
    "\n",
    "$$t=\\frac{(\\sum_{i=1}^{n} x_iy_i)\\sqrt{n-1}}{\\sqrt{\\sum_{i=1}^{n}x_i^2\\sum_{i=1}^{n}(y_i^2-2y_ix_i\\hat{\\beta}+(x_i\\hat{\\beta})^2)}}$$\n",
    "\n",
    "\n",
    "$$t=\\frac{(\\sum_{i=1}^{n} x_iy_i)\\sqrt{n-1}}{\\sqrt{\\sum_{i=1}^{n}x_i^2\\sum_{i=1}^{n}y_i^2-\\sum_{i=1}^{n}(2y_ix_i\\hat{\\beta}+x_i^2\\hat{\\beta^2})}}$$\n",
    "\n",
    "\n",
    "*I'm stuck here...*\n",
    "\n",
    "$$t=\\frac{(\\sum_{i=1}^{n} x_iy_i)\\sqrt{n-1}}{\\sqrt{\\sum_{i=1}^{n}x_i^2\\sum_{i=1}^{n}y_i^2-\\sum_{i=1}^{n}(x_iy_i)^2}}$$\n",
    "\n"
   ]
  },
  {
   "cell_type": "code",
   "execution_count": 7,
   "metadata": {},
   "outputs": [
    {
     "data": {
      "text/html": [
       "18.7259319374486"
      ],
      "text/latex": [
       "18.7259319374486"
      ],
      "text/markdown": [
       "18.7259319374486"
      ],
      "text/plain": [
       "[1] 18.72593"
      ]
     },
     "metadata": {},
     "output_type": "display_data"
    }
   ],
   "source": [
    "(sum(x*y) * sqrt(length(x)-1)) / (sqrt(sum(x^2)*sum(y^2)-(sum(x*y))^2))"
   ]
  },
  {
   "cell_type": "markdown",
   "metadata": {
    "collapsed": true
   },
   "source": [
    "Same value as the t-statistic computed before."
   ]
  },
  {
   "cell_type": "markdown",
   "metadata": {},
   "source": [
    "## (e)\n",
    "\n",
    "Swaping x and y will yield the same result"
   ]
  },
  {
   "cell_type": "markdown",
   "metadata": {},
   "source": [
    "## (f)"
   ]
  },
  {
   "cell_type": "code",
   "execution_count": 10,
   "metadata": {},
   "outputs": [
    {
     "data": {
      "text/plain": [
       "\n",
       "Call:\n",
       "lm(formula = x ~ y)\n",
       "\n",
       "Residuals:\n",
       "     Min       1Q   Median       3Q      Max \n",
       "-0.90848 -0.28101  0.06274  0.24570  0.85736 \n",
       "\n",
       "Coefficients:\n",
       "            Estimate Std. Error t value Pr(>|t|)    \n",
       "(Intercept)  0.03880    0.04266    0.91    0.365    \n",
       "y            0.38942    0.02099   18.56   <2e-16 ***\n",
       "---\n",
       "Signif. codes:  0 ‘***’ 0.001 ‘**’ 0.01 ‘*’ 0.05 ‘.’ 0.1 ‘ ’ 1\n",
       "\n",
       "Residual standard error: 0.4249 on 98 degrees of freedom\n",
       "Multiple R-squared:  0.7784,\tAdjusted R-squared:  0.7762 \n",
       "F-statistic: 344.3 on 1 and 98 DF,  p-value: < 2.2e-16\n"
      ]
     },
     "metadata": {},
     "output_type": "display_data"
    },
    {
     "data": {
      "text/plain": [
       "\n",
       "Call:\n",
       "lm(formula = y ~ x)\n",
       "\n",
       "Residuals:\n",
       "    Min      1Q  Median      3Q     Max \n",
       "-1.8768 -0.6138 -0.1395  0.5394  2.3462 \n",
       "\n",
       "Coefficients:\n",
       "            Estimate Std. Error t value Pr(>|t|)    \n",
       "(Intercept) -0.03769    0.09699  -0.389    0.698    \n",
       "x            1.99894    0.10773  18.556   <2e-16 ***\n",
       "---\n",
       "Signif. codes:  0 ‘***’ 0.001 ‘**’ 0.01 ‘*’ 0.05 ‘.’ 0.1 ‘ ’ 1\n",
       "\n",
       "Residual standard error: 0.9628 on 98 degrees of freedom\n",
       "Multiple R-squared:  0.7784,\tAdjusted R-squared:  0.7762 \n",
       "F-statistic: 344.3 on 1 and 98 DF,  p-value: < 2.2e-16\n"
      ]
     },
     "metadata": {},
     "output_type": "display_data"
    }
   ],
   "source": [
    "lm.fit3 = lm(x~y)\n",
    "summary(lm.fit3)\n",
    "\n",
    "lm.fit4 = lm(y~x)\n",
    "summary(lm.fit4)"
   ]
  }
 ],
 "metadata": {
  "kernelspec": {
   "display_name": "R",
   "language": "R",
   "name": "ir"
  },
  "language_info": {
   "codemirror_mode": "r",
   "file_extension": ".r",
   "mimetype": "text/x-r-source",
   "name": "R",
   "pygments_lexer": "r",
   "version": "3.3.2"
  }
 },
 "nbformat": 4,
 "nbformat_minor": 2
}
